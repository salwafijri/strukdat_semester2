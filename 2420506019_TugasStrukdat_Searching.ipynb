{
  "nbformat": 4,
  "nbformat_minor": 0,
  "metadata": {
    "colab": {
      "provenance": []
    },
    "kernelspec": {
      "name": "python3",
      "display_name": "Python 3"
    },
    "language_info": {
      "name": "python"
    }
  },
  "cells": [
    {
      "cell_type": "markdown",
      "source": [
        "### **TUGAS**"
      ],
      "metadata": {
        "id": "mPbRESKiY90F"
      }
    },
    {
      "cell_type": "code",
      "execution_count": null,
      "metadata": {
        "colab": {
          "base_uri": "https://localhost:8080/"
        },
        "id": "ZSlnGCt6Y0FC",
        "outputId": "ef1e6302-01d5-43d1-f32d-71e28ec23d57"
      },
      "outputs": [
        {
          "output_type": "stream",
          "name": "stdout",
          "text": [
            "Array: [9, 14, 20, 23, 24, 40, 41, 47, 71, 72, 78, 103, 109, 124, 142, 157, 158, 162, 178, 181, 210, 219, 263, 273, 276, 293, 295, 296, 298, 303, 306, 316, 325, 356, 367, 413, 424, 438, 445, 446, 450, 459, 467, 469, 479, 489, 515, 521, 524, 530, 532, 546, 553, 554, 558, 563, 574, 594, 595, 597, 603, 607, 608, 615, 622, 642, 667, 692, 709, 719, 734, 773, 778, 782, 783, 789, 827, 836, 843, 849, 865, 871, 895, 896, 900, 901, 923, 931, 932, 940, 950, 954, 957, 964, 968, 978, 981, 987, 988, 993]\n",
            "Target: 871\n",
            "+---------------+--------------------+-----------------------+\n",
            "| Metode        |   Indeks Ditemukan |   Jumlah Perbandingan |\n",
            "+===============+====================+=======================+\n",
            "| Linier Search |                 81 |                    82 |\n",
            "+---------------+--------------------+-----------------------+\n",
            "| Binary Search |                 81 |                     6 |\n",
            "+---------------+--------------------+-----------------------+\n",
            "| Jump Search   |                 81 |                    10 |\n",
            "+---------------+--------------------+-----------------------+\n"
          ]
        }
      ],
      "source": [
        "import random\n",
        "import math\n",
        "from tabulate import tabulate\n",
        "\n",
        "arr = sorted(random.sample(range(1, 1001), 100))\n",
        "target = random.choice(arr) # target dipilih dengan acak\n",
        "print(\"Array:\", arr) # menampilkan array\n",
        "print(\"Target:\", target) # menampilkan target\n",
        "\n",
        "# linier search\n",
        "def linier_search(arr, target):\n",
        "  count = 0  # untuk menghitung jumlah berapa kali target dibandingkan\n",
        "  for i in range(len(arr)):\n",
        "    count += 1\n",
        "    if arr[i] == target:\n",
        "      return i, count\n",
        "  return -1, count\n",
        "\n",
        "# binary search\n",
        "def binary_search(arr, target):\n",
        "  low = 0\n",
        "  high = len(arr) - 1\n",
        "  count = 0\n",
        "  while low <= high:\n",
        "    mid = (low + high) // 2\n",
        "    count += 1\n",
        "    if arr[mid] == target:\n",
        "      return mid, count\n",
        "    elif arr[mid] < target:\n",
        "      low = mid + 1\n",
        "    else:\n",
        "      high = mid - 1\n",
        "  return -1, count\n",
        "\n",
        "# jump search\n",
        "def jump_search(arr, target):\n",
        "  n = len(arr)\n",
        "  step = int(math.sqrt(n))\n",
        "  prev = 0\n",
        "  count = 0\n",
        "  while prev < n and arr[min(n-1, prev + step)] < target:\n",
        "    count += 1\n",
        "    prev += step\n",
        "\n",
        "  for i in range(prev, min(n, prev + step)):\n",
        "    count += 1\n",
        "    if arr[i] == target:\n",
        "      return i, count\n",
        "  return -1, count\n",
        "\n",
        "# Pengujian dan menampilkan hasil\n",
        "linier_index, linier_count = linier_search(arr, target)\n",
        "binary_index, binary_count = binary_search(arr, target)\n",
        "jump_index, jump_count = jump_search(arr, target)\n",
        "\n",
        "data = [\n",
        "  [\"Linier Search\", linier_index, linier_count],\n",
        "  [\"Binary Search\", binary_index, binary_count],\n",
        "  [\"Jump Search\", jump_index, jump_count]\n",
        "]\n",
        "\n",
        "headers = [\"Metode\", \"Indeks Ditemukan\", \"Jumlah Perbandingan\"]\n",
        "print(tabulate(data, headers=headers, tablefmt=\"grid\"))"
      ]
    },
    {
      "cell_type": "code",
      "source": [],
      "metadata": {
        "id": "Fy_6GgW4U6eS"
      },
      "execution_count": null,
      "outputs": []
    }
  ]
}