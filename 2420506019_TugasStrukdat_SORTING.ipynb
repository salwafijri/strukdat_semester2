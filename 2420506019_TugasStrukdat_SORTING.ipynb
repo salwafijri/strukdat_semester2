{
  "nbformat": 4,
  "nbformat_minor": 0,
  "metadata": {
    "colab": {
      "provenance": []
    },
    "kernelspec": {
      "name": "python3",
      "display_name": "Python 3"
    },
    "language_info": {
      "name": "python"
    }
  },
  "cells": [
    {
      "cell_type": "markdown",
      "source": [
        "### **TUGAS**"
      ],
      "metadata": {
        "id": "BzW4RdO487nx"
      }
    },
    {
      "cell_type": "code",
      "source": [
        "from prettytable import PrettyTable\n",
        "\n",
        "class Customer:\n",
        "  def __init__(self, nama, umur, total_belanja):\n",
        "    self.nama = nama\n",
        "    self.umur= umur\n",
        "    self.total_belanja = total_belanja\n",
        "  def __repr__(self):\n",
        "    return f\"{{'nama': '{self.nama}', 'umur': {self.umur}, 'total_belanja': {self.total_belanja}}}\"\n",
        "\n",
        "class MergeSort:\n",
        "  def sort(customers, key):\n",
        "    if len(customers) <= 1:\n",
        "      return customers\n",
        "    mid = len(customers) // 2\n",
        "    left_half = MergeSort.sort(customers[:mid], key)\n",
        "    right_half = MergeSort.sort(customers[mid:], key)\n",
        "    return MergeSort.merge(left_half, right_half, key)\n",
        "\n",
        "  def merge(left, right, key):\n",
        "    sorted_list = []\n",
        "    i = j = 0\n",
        "\n",
        "    while i < len(left) and j < len(right):\n",
        "      if getattr(left[i], key) <= getattr(right[j], key):\n",
        "        sorted_list.append(left[i])\n",
        "        i += 1\n",
        "      else:\n",
        "        sorted_list.append(right[j])\n",
        "        j += 1\n",
        "\n",
        "    sorted_list.extend(left[i:])\n",
        "    sorted_list.extend(right[j:])\n",
        "    return sorted_list\n",
        "\n",
        "# Data pelanggan (nama, umur, total_belanja)\n",
        "customers = [\n",
        "    Customer(\"Setiasih\", 21, 100000), Customer(\"Nadhifa\", 17, 50000), Customer(\"Septi\", 15, 80000),\n",
        "    Customer(\"Sita\", 20, 200000), Customer(\"Evellyn\", 25, 85000), Customer(\"Dzakii\", 27, 500000),\n",
        "    Customer(\"Abdi\", 22, 150000), Customer(\"Hammam\", 20, 90000), Customer(\"Salwa\", 18, 120000),\n",
        "    Customer(\"Akmal\", 25, 200000)\n",
        "]\n",
        "\n",
        "# Sorting berdasarkan nama (A-Z)\n",
        "sorted_nama = MergeSort.sort(customers, \"nama\")\n",
        "print(\"Urutan berdasarkan nama (dari abjad A - Z):\")\n",
        "table = PrettyTable([\"Nama\", \"Umur\", \"Total Belanja\"])\n",
        "for cust in sorted_nama:\n",
        "  table.add_row([cust.nama, cust.umur, cust.total_belanja])\n",
        "print(table)\n",
        "\n",
        "# Sorting berdasarkan umur (termuda ke tertua)\n",
        "sorted_umur = MergeSort.sort(customers, \"umur\")\n",
        "print(\"\\nUrutan berdasarkan umur (dari yang termuda ke tertua):\")\n",
        "table = PrettyTable([\"Nama\", \"Umur\", \"Total Belanja\"])\n",
        "for cust in sorted_umur:\n",
        "  table.add_row([cust.nama, cust.umur, cust.total_belanja])\n",
        "print(table)\n",
        "\n",
        "# Sorting berdasarkan total belanja (terkecil ke terbesar)\n",
        "sorted_belanja = MergeSort.sort(customers, \"total_belanja\")\n",
        "print(\"\\nUrutan berdasarkan total belanja (dari yang terkecil ke terbesar):\")\n",
        "table = PrettyTable([\"Nama\", \"Umur\", \"Total Belanja\"])\n",
        "for cust in sorted_belanja:\n",
        "  table.add_row([cust.nama, cust.umur, cust.total_belanja])\n",
        "print(table)"
      ],
      "metadata": {
        "id": "MPolw-KK8_nn",
        "colab": {
          "base_uri": "https://localhost:8080/"
        },
        "outputId": "556f9e31-06f6-41bf-80c9-f443638a57cb"
      },
      "execution_count": 8,
      "outputs": [
        {
          "output_type": "stream",
          "name": "stdout",
          "text": [
            "Urutan berdasarkan nama (dari abjad A - Z):\n",
            "+----------+------+---------------+\n",
            "|   Nama   | Umur | Total Belanja |\n",
            "+----------+------+---------------+\n",
            "|   Abdi   |  22  |     150000    |\n",
            "|  Akmal   |  25  |     200000    |\n",
            "|  Dzakii  |  27  |     500000    |\n",
            "| Evellyn  |  25  |     85000     |\n",
            "|  Hammam  |  20  |     90000     |\n",
            "| Nadhifa  |  17  |     50000     |\n",
            "|  Salwa   |  18  |     120000    |\n",
            "|  Septi   |  15  |     80000     |\n",
            "| Setiasih |  21  |     100000    |\n",
            "|   Sita   |  20  |     200000    |\n",
            "+----------+------+---------------+\n",
            "\n",
            "Urutan berdasarkan umur (dari yang termuda ke tertua):\n",
            "+----------+------+---------------+\n",
            "|   Nama   | Umur | Total Belanja |\n",
            "+----------+------+---------------+\n",
            "|  Septi   |  15  |     80000     |\n",
            "| Nadhifa  |  17  |     50000     |\n",
            "|  Salwa   |  18  |     120000    |\n",
            "|   Sita   |  20  |     200000    |\n",
            "|  Hammam  |  20  |     90000     |\n",
            "| Setiasih |  21  |     100000    |\n",
            "|   Abdi   |  22  |     150000    |\n",
            "| Evellyn  |  25  |     85000     |\n",
            "|  Akmal   |  25  |     200000    |\n",
            "|  Dzakii  |  27  |     500000    |\n",
            "+----------+------+---------------+\n",
            "\n",
            "Urutan berdasarkan total belanja (dari yang terkecil ke terbesar):\n",
            "+----------+------+---------------+\n",
            "|   Nama   | Umur | Total Belanja |\n",
            "+----------+------+---------------+\n",
            "| Nadhifa  |  17  |     50000     |\n",
            "|  Septi   |  15  |     80000     |\n",
            "| Evellyn  |  25  |     85000     |\n",
            "|  Hammam  |  20  |     90000     |\n",
            "| Setiasih |  21  |     100000    |\n",
            "|  Salwa   |  18  |     120000    |\n",
            "|   Abdi   |  22  |     150000    |\n",
            "|   Sita   |  20  |     200000    |\n",
            "|  Akmal   |  25  |     200000    |\n",
            "|  Dzakii  |  27  |     500000    |\n",
            "+----------+------+---------------+\n"
          ]
        }
      ]
    },
    {
      "cell_type": "code",
      "source": [],
      "metadata": {
        "id": "O6W13VL9R4my"
      },
      "execution_count": null,
      "outputs": []
    }
  ]
}