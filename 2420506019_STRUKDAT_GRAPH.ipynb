{
  "nbformat": 4,
  "nbformat_minor": 0,
  "metadata": {
    "colab": {
      "provenance": []
    },
    "kernelspec": {
      "name": "python3",
      "display_name": "Python 3"
    },
    "language_info": {
      "name": "python"
    }
  },
  "cells": [
    {
      "cell_type": "markdown",
      "source": [
        "**Graph dengan Andjacency List**"
      ],
      "metadata": {
        "id": "t07cb4Bzwox2"
      }
    },
    {
      "cell_type": "code",
      "execution_count": null,
      "metadata": {
        "colab": {
          "base_uri": "https://localhost:8080/"
        },
        "id": "UpbCzsP6vxFQ",
        "outputId": "122e42d8-f7c8-4cd7-e6d3-13ec16187141"
      },
      "outputs": [
        {
          "output_type": "stream",
          "name": "stdout",
          "text": [
            "A --> ['B', 'C']\n",
            "B --> ['A', 'D', 'E']\n",
            "C --> ['A', 'F']\n",
            "D --> ['B']\n",
            "E --> ['B', 'F']\n",
            "F --> ['C', 'E']\n"
          ]
        }
      ],
      "source": [
        "# membuat graph tak berarah menggunakan adjacency list\n",
        "graph = {\n",
        "    'A': ['B', 'C'],\n",
        "    'B': ['A', 'D', 'E'],\n",
        "    'C': ['A', 'F'],\n",
        "    'D': ['B'],\n",
        "    'E': ['B', 'F'],\n",
        "    'F': ['C', 'E']\n",
        "}\n",
        "\n",
        "# menampilkan graph\n",
        "def print_graph(graph):\n",
        "    for node in graph:\n",
        "        print(f\"{node} --> {graph[node]}\")\n",
        "\n",
        "print_graph(graph)"
      ]
    },
    {
      "cell_type": "markdown",
      "source": [
        "**Traversal graph menggunakan BFS**"
      ],
      "metadata": {
        "id": "j1GZiRqdxx_V"
      }
    },
    {
      "cell_type": "code",
      "source": [
        "from collections import deque\n",
        "\n",
        "def bfs(graph, start):\n",
        "  visited = set()\n",
        "  queue = deque([start])\n",
        "\n",
        "  while queue:\n",
        "    vertex = queue.popleft()\n",
        "    if vertex not in visited:\n",
        "      print(vertex, end=' ')\n",
        "      visited.add(vertex)\n",
        "      queue.extend([neighbor for neighbor in graph[vertex] if neighbor not in visited])\n",
        "\n",
        "# contoh pemanggilan\n",
        "bfs(graph, 'A')"
      ],
      "metadata": {
        "colab": {
          "base_uri": "https://localhost:8080/"
        },
        "id": "sThq-NeIyUJd",
        "outputId": "475d5618-ede5-4c57-db87-a6c1f29f848a"
      },
      "execution_count": null,
      "outputs": [
        {
          "output_type": "stream",
          "name": "stdout",
          "text": [
            "A B C D E F "
          ]
        }
      ]
    },
    {
      "cell_type": "markdown",
      "source": [
        "**Traversal graph menggunakan DFS**"
      ],
      "metadata": {
        "id": "52JT9pX6zdjk"
      }
    },
    {
      "cell_type": "code",
      "source": [
        "def dfs(graph, start, visited = None):\n",
        "  if visited is None:\n",
        "    visited = set()\n",
        "\n",
        "  if start not in visited:\n",
        "    print(start, end=' ')\n",
        "    visited.add(start)\n",
        "    for neighbor in graph[start]:\n",
        "      dfs(graph, neighbor, visited)\n",
        "\n",
        "# comtoh pemanggilan\n",
        "dfs(graph, 'A')"
      ],
      "metadata": {
        "colab": {
          "base_uri": "https://localhost:8080/"
        },
        "id": "oR-rO314zWhe",
        "outputId": "2a3828f8-8b43-4af6-d4b1-f29925c2f530"
      },
      "execution_count": null,
      "outputs": [
        {
          "output_type": "stream",
          "name": "stdout",
          "text": [
            "A B D E F C "
          ]
        }
      ]
    },
    {
      "cell_type": "markdown",
      "source": [
        "**Latihan Personal**"
      ],
      "metadata": {
        "id": "nLGRoxtu0evU"
      }
    },
    {
      "cell_type": "code",
      "source": [
        "# lengkapi fungsi untuk menghitung jumlah tetangga dari setiap simpul dalam graf\n",
        "\n",
        "def count_neighbors(graph):\n",
        "  result = {}\n",
        "  for node in graph:\n",
        "    result[node] = len(graph[node]) # jawaban baris yang kosong\n",
        "  return result\n",
        "\n",
        "# contoh pemanggilan\n",
        "print(count_neighbors(graph))"
      ],
      "metadata": {
        "colab": {
          "base_uri": "https://localhost:8080/"
        },
        "id": "ceId7qxB0Qum",
        "outputId": "6a1c0e86-aac0-4c2c-fe7a-0a4ab0b8cad7"
      },
      "execution_count": null,
      "outputs": [
        {
          "output_type": "stream",
          "name": "stdout",
          "text": [
            "{'A': 2, 'B': 3, 'C': 2, 'D': 1, 'E': 2, 'F': 2}\n"
          ]
        }
      ]
    }
  ]
}