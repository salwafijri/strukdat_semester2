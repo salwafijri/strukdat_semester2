{
  "nbformat": 4,
  "nbformat_minor": 0,
  "metadata": {
    "colab": {
      "provenance": []
    },
    "kernelspec": {
      "name": "python3",
      "display_name": "Python 3"
    },
    "language_info": {
      "name": "python"
    }
  },
  "cells": [
    {
      "cell_type": "markdown",
      "source": [
        "**Implementasi Queue dengan List**"
      ],
      "metadata": {
        "id": "ZBQaYv-EOpKc"
      }
    },
    {
      "cell_type": "code",
      "execution_count": null,
      "metadata": {
        "colab": {
          "base_uri": "https://localhost:8080/"
        },
        "id": "CPOe78n6OVxD",
        "outputId": "4b0c2467-febf-420a-9900-bf9b0826383d"
      },
      "outputs": [
        {
          "output_type": "stream",
          "name": "stdout",
          "text": [
            "Queue setelah enqueue: [10, 20, 30]\n",
            "Dequeued element: 10\n",
            "Front element: 20\n",
            "Rear element: 30\n",
            "Queue size: 2\n"
          ]
        }
      ],
      "source": [
        "# Implementasi Queue menggunakan List\n",
        "class QueueList:\n",
        " def __init__(self):\n",
        "  self.queue = []\n",
        " def enqueue(self, item):\n",
        "  self.queue.append(item)\n",
        " def dequeue(self):\n",
        "  if not self.is_empty():\n",
        "    return self.queue.pop(0)\n",
        "  return None\n",
        " def front(self):\n",
        "  return self.queue[0] if not self.is_empty() else None\n",
        " def rear(self):\n",
        "  return self.queue[-1] if not self.is_empty() else None\n",
        " def is_empty(self):\n",
        "  return len(self.queue) == 0\n",
        " def size(self):\n",
        "  return len(self.queue)\n",
        "# Contoh penggunaan\n",
        "queue = QueueList()\n",
        "queue.enqueue(10)\n",
        "queue.enqueue(20)\n",
        "queue.enqueue(30)\n",
        "print(\"Queue setelah enqueue:\", queue.queue)\n",
        "print(\"Dequeued element:\", queue.dequeue())\n",
        "print(\"Front element:\", queue.front())\n",
        "print(\"Rear element:\", queue.rear())\n",
        "print(\"Queue size:\", queue.size())"
      ]
    },
    {
      "cell_type": "markdown",
      "source": [
        "**Implementasi Queue dengan collections.deque**"
      ],
      "metadata": {
        "id": "AlOb7EICRQTz"
      }
    },
    {
      "cell_type": "code",
      "source": [
        "from collections import deque\n",
        "# Implementasi Queue menggunakan deque\n",
        "class QueueDeque:\n",
        " def __init__(self):\n",
        "  self.queue = deque()\n",
        " def enqueue(self, item):\n",
        "  self.queue.append(item)\n",
        "\n",
        " def dequeue(self):\n",
        "  return self.queue.popleft() if not self.is_empty() else None\n",
        " def front(self):\n",
        "  return self.queue[0] if not self.is_empty() else None\n",
        " def rear(self):\n",
        "  return self.queue[-1] if not self.is_empty() else None\n",
        " def is_empty(self):\n",
        "  return len(self.queue) == 0\n",
        " def size(self):\n",
        "  return len(self.queue)\n",
        "# Contoh penggunaan\n",
        "queue = QueueDeque()\n",
        "queue.enqueue(10)\n",
        "queue.enqueue(20)\n",
        "queue.enqueue(30)\n",
        "print(\"Queue setelah enqueue:\", list(queue.queue))\n",
        "print(\"Dequeued element:\", queue.dequeue())\n",
        "print(\"Front element:\", queue.front())\n",
        "print(\"Rear element:\", queue.rear())\n",
        "print(\"Queue size:\", queue.size())"
      ],
      "metadata": {
        "colab": {
          "base_uri": "https://localhost:8080/"
        },
        "id": "BqY3XXAKPE5N",
        "outputId": "6ea27262-ad3b-4e24-f896-09bd7f489401"
      },
      "execution_count": null,
      "outputs": [
        {
          "output_type": "stream",
          "name": "stdout",
          "text": [
            "Queue setelah enqueue: [10, 20, 30]\n",
            "Dequeued element: 10\n",
            "Front element: 20\n",
            "Rear element: 30\n",
            "Queue size: 2\n"
          ]
        }
      ]
    },
    {
      "cell_type": "markdown",
      "source": [
        "**Implementasi Queue dengan queue.Queue**"
      ],
      "metadata": {
        "id": "b1vHx-yVR6Yb"
      }
    },
    {
      "cell_type": "code",
      "source": [
        "from queue import Queue\n",
        "# Implementasi Queue menggunakan queue.Queue\n",
        "queue = Queue()\n",
        "queue.put(10)\n",
        "queue.put(20)\n",
        "queue.put(30)\n",
        "print(\"Queue size:\", queue.qsize())\n",
        "print(\"Dequeued element:\", queue.get())\n",
        "print(\"Queue size setelah dequeue:\", queue.qsize())"
      ],
      "metadata": {
        "colab": {
          "base_uri": "https://localhost:8080/"
        },
        "id": "ALSqAzaER19E",
        "outputId": "4292cc74-a7ab-4a53-a550-a3d0efcbd64c"
      },
      "execution_count": null,
      "outputs": [
        {
          "output_type": "stream",
          "name": "stdout",
          "text": [
            "Queue size: 3\n",
            "Dequeued element: 10\n",
            "Queue size setelah dequeue: 2\n"
          ]
        }
      ]
    },
    {
      "cell_type": "markdown",
      "source": [
        "**Implementasi Queue dengan Linked List**"
      ],
      "metadata": {
        "id": "jBfvB-LeSFKR"
      }
    },
    {
      "cell_type": "code",
      "source": [
        "class Node:\n",
        " def __init__(self, data):\n",
        "  self.data = data\n",
        "  self.next = None\n",
        "class QueueLinkedList:\n",
        " def __init__(self):\n",
        "  self.front = self.rear = None\n",
        " def enqueue(self, data):\n",
        "  new_node = Node(data)\n",
        "  if self.rear is None:\n",
        "    self.front = self.rear = new_node\n",
        "    return\n",
        "  self.rear.next = new_node\n",
        "  self.rear = new_node\n",
        " def dequeue(self):\n",
        "  if self.front is None:\n",
        "    return None\n",
        "  dequeued_element = self.front.data\n",
        "  self.front = self.front.next\n",
        "  if self.front is None:\n",
        "    self.rear = None\n",
        "  return dequeued_element\n",
        " def is_empty(self):\n",
        "  return self.front is None\n",
        " def front_element(self):\n",
        "  return self.front.data if self.front else None\n",
        " def rear_element(self):\n",
        "  return self.rear.data if self.rear else None\n",
        "# Contoh penggunaan\n",
        "queue = QueueLinkedList()\n",
        "queue.enqueue(10)\n",
        "queue.enqueue(20)\n",
        "queue.enqueue(30)\n",
        "print(\"Dequeued element:\", queue.dequeue())\n",
        "print(\"Front element:\", queue.front_element())\n",
        "print(\"Rear element:\", queue.rear_element())"
      ],
      "metadata": {
        "colab": {
          "base_uri": "https://localhost:8080/"
        },
        "id": "xWMPX_xYSB5S",
        "outputId": "d34dbf40-bec7-421b-dfbf-9f919ceea93b"
      },
      "execution_count": null,
      "outputs": [
        {
          "output_type": "stream",
          "name": "stdout",
          "text": [
            "Dequeued element: 10\n",
            "Front element: 20\n",
            "Rear element: 30\n"
          ]
        }
      ]
    },
    {
      "cell_type": "code",
      "source": [],
      "metadata": {
        "id": "K-RDhkvRSdPD"
      },
      "execution_count": null,
      "outputs": []
    }
  ]
}