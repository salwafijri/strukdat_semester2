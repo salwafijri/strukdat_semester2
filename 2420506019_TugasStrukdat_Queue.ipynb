{
  "nbformat": 4,
  "nbformat_minor": 0,
  "metadata": {
    "colab": {
      "provenance": []
    },
    "kernelspec": {
      "name": "python3",
      "display_name": "Python 3"
    },
    "language_info": {
      "name": "python"
    }
  },
  "cells": [
    {
      "cell_type": "markdown",
      "source": [
        "**LATIHAN / TUGAS**"
      ],
      "metadata": {
        "id": "cNgkpWNvU8Pq"
      }
    },
    {
      "cell_type": "markdown",
      "source": [
        "**Soal Latihan 1: Antrian Pemesanan Tiket Bioskop**"
      ],
      "metadata": {
        "id": "FwFqNtBFSul7"
      }
    },
    {
      "cell_type": "code",
      "execution_count": 7,
      "metadata": {
        "colab": {
          "base_uri": "https://localhost:8080/"
        },
        "id": "CalwcsYpSkei",
        "outputId": "f68d271f-dfb9-4de1-eecd-c0a804b36458"
      },
      "outputs": [
        {
          "output_type": "stream",
          "name": "stdout",
          "text": [
            "Masukkan jumlah pelanggan: 6\n",
            "\n",
            "Masukkan ID tiket untuk pelanggan ke-1: SA19\n",
            "Pelanggan dengan ID SA19 dipersilahkan masuk tanpa mengantri\n",
            "\n",
            "Masukkan ID tiket untuk pelanggan ke-2: SA20\n",
            "Pelanggan dengan ID SA20 masuk ke dalam antrian.\n",
            "\n",
            "Masukkan ID tiket untuk pelanggan ke-3: SA21\n",
            "Pelanggan dengan ID SA21 dipersilahkan masuk tanpa mengantri\n",
            "\n",
            "Masukkan ID tiket untuk pelanggan ke-4: SA22\n",
            "Pelanggan dengan ID SA22 masuk ke dalam antrian.\n",
            "\n",
            "Masukkan ID tiket untuk pelanggan ke-5: SA23\n",
            "Pelanggan dengan ID SA23 masuk ke dalam antrian.\n",
            "\n",
            "Masukkan ID tiket untuk pelanggan ke-6: A24\n",
            "Pelanggan dengan ID A24 masuk ke dalam antrian.\n",
            "\n",
            "Daftar Pelanggan dalam antrian: ['SA20', 'SA22', 'SA23', 'A24']\n",
            "Pelanggan pertama yang akan dilayani: SA20\n",
            "Pelanggan pertama (front): SA22\n",
            "Pelanggan terakhir (rear): A24\n",
            "Jumlah pelanggan dalam antrian: 3\n"
          ]
        }
      ],
      "source": [
        "class Antrian:\n",
        "    def __init__(self):\n",
        "        self.antrian = []\n",
        "    def enqueue(self, ticket_id):\n",
        "      if \"1\" in ticket_id:  # kondisi untuk pelanggan VIP\n",
        "        print(f\"Pelanggan dengan ID {ticket_id} dipersilahkan masuk tanpa mengantri\")\n",
        "      elif len(self.antrian) >= 10:\n",
        "        print(\"Pelanggan baru harus menunggu hingga ada slot kosong.\")\n",
        "      else:\n",
        "        self.antrian.append(ticket_id)  # Menambahkan pelanggan ke dalam antrian.\n",
        "        print(f\"Pelanggan dengan ID {ticket_id} masuk ke dalam antrian.\")\n",
        "    def dequeue(self): # Melayani pelanggan pertama dalam antrian.\n",
        "      if not self.is_empty():\n",
        "        return self.antrian.pop(0)\n",
        "      return None\n",
        "    def front(self): # Menampilkan pelanggan pertama dalam antrian.\n",
        "      return self.antrian[0] if not self.is_empty() else None\n",
        "    def rear(self): # Menampilkan pelanggan terakhir dalam antrian.\n",
        "      return self.antrian[-1] if not self.is_empty() else None\n",
        "    def is_empty(self): # Mengecek apakah antrian kosong\n",
        "      return len(self.antrian) == 0\n",
        "    def size(self): # menghitung jumlah pelanggan dalam antrian.\n",
        "      return len(self.antrian)\n",
        "\n",
        "antrian = Antrian()\n",
        "\n",
        "daftar_pelanggan = int(input(\"Masukkan jumlah pelanggan: \"))\n",
        "for i in range(daftar_pelanggan):\n",
        "  ticket_id = input(f\"\\nMasukkan ID tiket untuk pelanggan ke-{i+1}: \")\n",
        "  antrian.enqueue(ticket_id)\n",
        "\n",
        "print(\"\\nDaftar Pelanggan dalam antrian:\", antrian.antrian)\n",
        "print(\"Pelanggan pertama yang akan dilayani:\", antrian.dequeue())\n",
        "print(\"Pelanggan pertama (front):\", antrian.front())\n",
        "print(\"Pelanggan terakhir (rear):\", antrian.rear())\n",
        "print(\"Jumlah pelanggan dalam antrian:\", antrian.size())"
      ]
    },
    {
      "cell_type": "markdown",
      "source": [
        "**Latihan 2 : Antrian Layanan Fotokopi Kampus**"
      ],
      "metadata": {
        "id": "AZLD99CVWToC"
      }
    },
    {
      "cell_type": "code",
      "source": [
        "class FotokopiList:\n",
        "  def __init__(self):\n",
        "    self.copy = []\n",
        "  def enqueue(self, order_id, num_pages): # menambahkan ke dalam queue\n",
        "    if num_pages <= 10: # fast track\n",
        "      print(f\"Pelanggan dengan ID {order_id} dan {num_pages} halaman langsung diproses tanpa mengantri.\")\n",
        "    else:\n",
        "      self.copy.append((order_id, num_pages))\n",
        "      print(f\"Pelanggan dengan ID {order_id} dan {num_pages} halaman masuk ke dalam antrian.\")\n",
        "  def dequeue(self):\n",
        "    if not self.is_empty():\n",
        "      return self.copy.pop(0)  # Menghapus dan mengembalikan pesanan pertama dalam antrian\n",
        "    return None\n",
        "  def front(self): # mengecek elemen pertama\n",
        "    return self.copy[0] if not self.is_empty() else None\n",
        "  def rear(self): # mengecek elemen terakhir\n",
        "    return self.copy[-1] if not self.is_empty() else None\n",
        "  def is_empty(self): # mengecek apakah kosong atau tidak\n",
        "    return len(self.copy) == 0\n",
        "  def size(self): # menghitung jumlah dalam antrian\n",
        "    return len(self.copy)\n",
        "\n",
        "fotokopi = FotokopiList()\n",
        "\n",
        "fotokopi.enqueue(\"SAL19\", 100)\n",
        "fotokopi.enqueue(\"SAL20\", 6) # Fast Track\n",
        "fotokopi.enqueue(\"SAL21\", 155)\n",
        "fotokopi.enqueue(\"SAL22\", 150)\n",
        "fotokopi.enqueue(\"SAL23\", 105)\n",
        "\n",
        "print(\"\\nDaftar Pelanggan dalam antrian:\", fotokopi.copy)\n",
        "print(\"Pelanggan pertama yang akan dilayani:\", fotokopi.dequeue())\n",
        "print(\"Pelanggan pertama (front):\", fotokopi.front())\n",
        "print(\"Pelanggan terakhir (rear):\", fotokopi.rear())\n",
        "print(\"Jumlah pelanggan dalam antrian:\", fotokopi.size())"
      ],
      "metadata": {
        "id": "4OTw6xT9e1xI",
        "colab": {
          "base_uri": "https://localhost:8080/"
        },
        "outputId": "082a6e85-14f9-4b9a-ab90-11c9c2353787"
      },
      "execution_count": 17,
      "outputs": [
        {
          "output_type": "stream",
          "name": "stdout",
          "text": [
            "Pelanggan dengan ID SAL19 dan 100 halaman masuk ke dalam antrian.\n",
            "Pelanggan dengan ID SAL20 dan 6 halaman langsung diproses tanpa mengantri.\n",
            "Pelanggan dengan ID SAL21 dan 155 halaman masuk ke dalam antrian.\n",
            "Pelanggan dengan ID SAL22 dan 150 halaman masuk ke dalam antrian.\n",
            "Pelanggan dengan ID SAL23 dan 105 halaman masuk ke dalam antrian.\n",
            "\n",
            "Daftar Pelanggan dalam antrian: [('SAL19', 100), ('SAL21', 155), ('SAL22', 150), ('SAL23', 105)]\n",
            "Pelanggan pertama yang akan dilayani: ('SAL19', 100)\n",
            "Pelanggan pertama (front): ('SAL21', 155)\n",
            "Pelanggan terakhir (rear): ('SAL23', 105)\n",
            "Jumlah pelanggan dalam antrian: 3\n"
          ]
        }
      ]
    },
    {
      "cell_type": "markdown",
      "source": [
        "### **Soal Latihan 3: Antrian Layanan Parkir Mall**"
      ],
      "metadata": {
        "id": "ofwpbJHAB7yP"
      }
    },
    {
      "cell_type": "code",
      "source": [
        "class Parkir:\n",
        "  def __init__(self, capacity=10):\n",
        "    self.queue = []\n",
        "    self.capacity = capacity\n",
        "  def enqueue(self, nmr_kendaraan, electric=False):\n",
        "    if len(self.queue) >= self.capacity:\n",
        "      print(f\"Antrian parkir penuh! Kendaraan {nmr_kendaraan} harus menunggu.\")\n",
        "      return\n",
        "    if electric:\n",
        "      self.queue.insert(0, nmr_kendaraan) # prioritas bagi kendaraan listrik\n",
        "      print(f\"Kendaraan listrik {nmr_kendaraan} masuk ke dalam antrian parkir prioritas.\") # didahulukan\n",
        "    else:\n",
        "      self.queue.append(nmr_kendaraan)\n",
        "      print(f\"Kendaraan {nmr_kendaraan} masuk ke dalam antrian parkir.\")\n",
        "  def dequeue(self):\n",
        "    if not self.is_empty():\n",
        "      kendaraan = self.queue.pop(0)\n",
        "      print(f\"Kendaraan {kendaraan} keluar dari antrian parkir.\")\n",
        "      return kendaraan\n",
        "    print(\"Parkiran kosong!\")\n",
        "    return None\n",
        "  def front(self):\n",
        "    return self.queue[0] if not self.is_empty() else None\n",
        "  def rear(self):\n",
        "    return self.queue[-1] if not self.is_empty() else None\n",
        "  def is_empty(self):\n",
        "    return len(self.queue) == 0\n",
        "  def size(self):\n",
        "    return len(self.queue)\n",
        "\n",
        "parkiran = Parkir()\n",
        "\n",
        "# Menambahkan kendaraan ke dalam antrian\n",
        "parkiran.enqueue(\"PA19\")  # Kendaraan biasa\n",
        "parkiran.enqueue(\"PA20\")  # Kendaraan biasa\n",
        "parkiran.enqueue(\"PA21\", electric=True)  # Kendaraan listrik\n",
        "parkiran.enqueue(\"PA22\")  # Kendaraan biasa\n",
        "parkiran.enqueue(\"PA23\", electric=True)  # Kendaraan listrik\n",
        "\n",
        "# Menampilkan status parkiran\n",
        "print(\"\\nKendaraan pertama dalam antrian:\", parkiran.front())\n",
        "print(\"Kendaraan terakhir dalam antrian:\", parkiran.rear())\n",
        "print(\"Jumlah kendaraan dalam parkiran:\", parkiran.size())\n",
        "\n",
        "# Mengeluarkan kendaraan\n",
        "print()\n",
        "parkiran.dequeue()\n",
        "parkiran.dequeue()\n",
        "\n",
        "# Menampilkan status parkiran setelah kendaraan keluar\n",
        "print(\"\\nKendaraan pertama dalam antrian setelah keluar:\", parkiran.front())\n",
        "print(\"Jumlah kendaraan dalam parkiran sekarang:\", parkiran.size())"
      ],
      "metadata": {
        "colab": {
          "base_uri": "https://localhost:8080/"
        },
        "id": "gUan9yR9BFib",
        "outputId": "e3de1bd7-237f-4594-d927-049e63ea27df"
      },
      "execution_count": 14,
      "outputs": [
        {
          "output_type": "stream",
          "name": "stdout",
          "text": [
            "Kendaraan PA19 masuk ke dalam antrian parkir.\n",
            "Kendaraan PA20 masuk ke dalam antrian parkir.\n",
            "Kendaraan listrik PA21 masuk ke dalam antrian parkir prioritas.\n",
            "Kendaraan PA22 masuk ke dalam antrian parkir.\n",
            "Kendaraan listrik PA23 masuk ke dalam antrian parkir prioritas.\n",
            "\n",
            "Kendaraan pertama dalam antrian: PA23\n",
            "Kendaraan terakhir dalam antrian: PA22\n",
            "Jumlah kendaraan dalam parkiran: 5\n",
            "\n",
            "Kendaraan PA23 keluar dari antrian parkir.\n",
            "Kendaraan PA21 keluar dari antrian parkir.\n",
            "\n",
            "Kendaraan pertama dalam antrian setelah keluar: PA19\n",
            "Jumlah kendaraan dalam parkiran sekarang: 3\n"
          ]
        }
      ]
    },
    {
      "cell_type": "markdown",
      "source": [
        "### **Latihan 4: Antrian Pengambilan Sertifikat di Kampus**"
      ],
      "metadata": {
        "id": "-KeDrBGHL_3e"
      }
    },
    {
      "cell_type": "code",
      "source": [
        "class QueueSertifikat:\n",
        "  def __init__(self, kapasitas=20):\n",
        "    self.queue_reguler = []\n",
        "    self.queue_prestasi = []\n",
        "    self.kapasitas = kapasitas\n",
        "  def enqueue(self, id_mhs, prestasi=False):\n",
        "    if prestasi:\n",
        "      print(f\"Mahasiswa {id_mhs} memiliki prestasi dan dapat langsung mengambil sertifikat.\")\n",
        "      return\n",
        "    if len(self.queue_reguler) + len(self.queue_prestasi) >= self.kapasitas:\n",
        "      print(f\"Queue penuh! Mahasiswa {id_mhs} harus menunggu.\")\n",
        "      return\n",
        "    if prestasi:\n",
        "      self.queue_prestasi.append(id_mhs)\n",
        "    else:\n",
        "      self.queue_reguler.append(id_mhs)\n",
        "    print(f\"Mahasiswa {id_mhs} masuk ke dalam queue.\")\n",
        "  def dequeue(self):\n",
        "    if self.queue_prestasi:\n",
        "      mahasiswa = self.queue_prestasi.pop(0)\n",
        "    elif self.queue_reguler:\n",
        "      mahasiswa = self.queue_reguler.pop(0)\n",
        "    else:\n",
        "      print(\"Queue kosong, tidak ada mahasiswa yang dilayani.\")\n",
        "      return None\n",
        "    print(f\"Mahasiswa {mahasiswa} telah mengambil sertifikat.\")\n",
        "    return mahasiswa\n",
        "  def front(self):\n",
        "    if self.queue_prestasi:\n",
        "      return self.queue_prestasi[0]\n",
        "    return self.queue_reguler[0] if self.queue_reguler else None\n",
        "  def rear(self):\n",
        "    if self.queue_reguler:\n",
        "      return self.queue_reguler[-1]\n",
        "    return self.queue_prestasi[-1] if self.queue_prestasi else None\n",
        "  def is_empty(self):\n",
        "    return len(self.queue_reguler) + len(self.queue_prestasi) == 0\n",
        "  def size(self):\n",
        "    return len(self.queue_reguler) + len(self.queue_prestasi)\n",
        "\n",
        "queue = QueueSertifikat()\n",
        "\n",
        "# Menambahkan mahasiswa ke dalam queue\n",
        "queue.enqueue(\"TI19\")  # Mahasiswa reguler\n",
        "queue.enqueue(\"TI20\")  # Mahasiswa reguler\n",
        "queue.enqueue(\"TI21\")  # Mahasiswa reguler\n",
        "queue.enqueue(\"TI22\")  # Mahasiswa reguler\n",
        "queue.enqueue(\"TI23\")  # Mahasiswa reguler\n",
        "queue.enqueue(\"TI99\", prestasi=True)  # Mahasiswa berprestasi langsung mengambil sertifikat\n",
        "\n",
        "# Menampilkan status queue\n",
        "print(\"\\nMahasiswa pertama dalam queue:\", queue.front())\n",
        "print(\"Mahasiswa terakhir dalam queue:\", queue.rear())\n",
        "print(\"Jumlah mahasiswa dalam queue:\", queue.size())\n",
        "\n",
        "# Melayani mahasiswa\n",
        "print()\n",
        "queue.dequeue()\n",
        "queue.dequeue()\n",
        "\n",
        "# Menampilkan status queue setelah beberapa mahasiswa dilayani\n",
        "print(\"\\nMahasiswa pertama dalam queue setelah layanan:\", queue.front())\n",
        "print(\"Jumlah mahasiswa dalam queue sekarang:\", queue.size())"
      ],
      "metadata": {
        "colab": {
          "base_uri": "https://localhost:8080/"
        },
        "id": "OHoGtBI-OTWK",
        "outputId": "20e52321-29a7-4415-8065-ec096dd5d05a"
      },
      "execution_count": 16,
      "outputs": [
        {
          "output_type": "stream",
          "name": "stdout",
          "text": [
            "Mahasiswa TI19 masuk ke dalam queue.\n",
            "Mahasiswa TI20 masuk ke dalam queue.\n",
            "Mahasiswa TI21 masuk ke dalam queue.\n",
            "Mahasiswa TI22 masuk ke dalam queue.\n",
            "Mahasiswa TI23 masuk ke dalam queue.\n",
            "Mahasiswa TI99 memiliki prestasi dan dapat langsung mengambil sertifikat.\n",
            "\n",
            "Mahasiswa pertama dalam queue: TI19\n",
            "Mahasiswa terakhir dalam queue: TI23\n",
            "Jumlah mahasiswa dalam queue: 5\n",
            "\n",
            "Mahasiswa TI19 telah mengambil sertifikat.\n",
            "Mahasiswa TI20 telah mengambil sertifikat.\n",
            "\n",
            "Mahasiswa pertama dalam queue setelah layanan: TI21\n",
            "Jumlah mahasiswa dalam queue sekarang: 3\n"
          ]
        }
      ]
    }
  ]
}