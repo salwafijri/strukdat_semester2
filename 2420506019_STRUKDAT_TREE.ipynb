{
  "nbformat": 4,
  "nbformat_minor": 0,
  "metadata": {
    "colab": {
      "provenance": []
    },
    "kernelspec": {
      "name": "python3",
      "display_name": "Python 3"
    },
    "language_info": {
      "name": "python"
    }
  },
  "cells": [
    {
      "cell_type": "markdown",
      "source": [
        "### **Membuat binary tree secara manual**"
      ],
      "metadata": {
        "id": "jxshrtRgxj1l"
      }
    },
    {
      "cell_type": "code",
      "execution_count": null,
      "metadata": {
        "colab": {
          "base_uri": "https://localhost:8080/"
        },
        "id": "l-zRLWqTquu9",
        "outputId": "3d464023-3857-4d12-e867-bb47ea571430"
      },
      "outputs": [
        {
          "output_type": "stream",
          "name": "stdout",
          "text": [
            "Hasil Inorder traversal dari binary tree:\n",
            "4 2 5 1 3 "
          ]
        }
      ],
      "source": [
        "class Node:\n",
        "  def __init__(self, data):\n",
        "    self.data = data\n",
        "    self.left = None\n",
        "    self.right = None\n",
        "\n",
        "#membuat tree secara manual\n",
        "root = Node(1)\n",
        "root.left = Node(2)\n",
        "root.right = Node(3)\n",
        "root.left.left = Node(4)\n",
        "root.left.right = Node(5)\n",
        "\n",
        "# fungsi inorder traversal\n",
        "def inorder(node):\n",
        "  if node:\n",
        "    inorder(node.left)\n",
        "    print(node.data, end=\" \")\n",
        "    inorder(node.right)\n",
        "\n",
        "print(\"Hasil Inorder traversal dari binary tree:\")\n",
        "inorder(root)"
      ]
    },
    {
      "cell_type": "markdown",
      "source": [
        "### **Membuat binary search tree**"
      ],
      "metadata": {
        "id": "HowEiAMzy22F"
      }
    },
    {
      "cell_type": "code",
      "source": [
        "class Node:\n",
        "  def __init__(self, data):\n",
        "    self.data = data\n",
        "    self.left = None\n",
        "    self.right = None\n",
        "\n",
        "class BinarySearchTree:\n",
        "  def __init__(self):\n",
        "    self.root = None\n",
        "  def insert(self, root, data):\n",
        "    if root is None:\n",
        "      return Node(data)\n",
        "    if data < root.data:\n",
        "      root.left = self.insert(root.left, data)\n",
        "    else:\n",
        "      root.right = self.insert(root.right, data)\n",
        "    return root\n",
        "\n",
        "bst = BinarySearchTree()\n",
        "data_list = [50, 30, 70, 20, 40, 60, 80]\n",
        "for value in data_list:\n",
        "  bst.root = bst.insert(bst.root, value)\n",
        "\n",
        "# menampilkan melalui traversal\n",
        "def inorder_traversal(root):\n",
        "    if root:\n",
        "        inorder_traversal(root.left)\n",
        "        print(root.data, end=' ')\n",
        "        inorder_traversal(root.right)\n",
        "\n",
        "# Panggil traversal\n",
        "print(\"Hasil dari inorder traversal:\")\n",
        "inorder_traversal(bst.root)"
      ],
      "metadata": {
        "colab": {
          "base_uri": "https://localhost:8080/"
        },
        "id": "KMjaZfVpztLV",
        "outputId": "1728eb68-1d15-4c54-9d5c-aa222e369099"
      },
      "execution_count": null,
      "outputs": [
        {
          "output_type": "stream",
          "name": "stdout",
          "text": [
            "Hasil dari inorder traversal:\n",
            "20 30 40 50 60 70 80 "
          ]
        }
      ]
    },
    {
      "cell_type": "markdown",
      "source": [
        "### **Traversal pada BST**"
      ],
      "metadata": {
        "id": "nbRd6H1D2YAi"
      }
    },
    {
      "cell_type": "code",
      "source": [
        "def inorder(node):\n",
        "  if node:\n",
        "    inorder(node.left)\n",
        "    print(node.data, end=\" \")\n",
        "    inorder(node.right)\n",
        "def preorder(node):\n",
        "  if node:\n",
        "    print(node.data, end=\" \")\n",
        "    preorder(node.left)\n",
        "    preorder(node.right)\n",
        "def postorder(node):\n",
        "  if node:\n",
        "    postorder(node.left)\n",
        "    postorder(node.right)\n",
        "    print(node.data, end=' ')\n",
        "\n",
        "print(\"Hasil Inorder traversal dari binary search tree:\")\n",
        "inorder(bst.root)\n",
        "print(\"\\nHasil Preorder traversal dari binary search tree:\")\n",
        "preorder(bst.root)\n",
        "print(\"\\nHasil Postorder traversal dari binary search tree:\")\n",
        "postorder(bst.root)"
      ],
      "metadata": {
        "colab": {
          "base_uri": "https://localhost:8080/"
        },
        "id": "uuqFHoys2vsy",
        "outputId": "ec1ee950-1f65-4299-9e0d-f80a175f2dc6"
      },
      "execution_count": null,
      "outputs": [
        {
          "output_type": "stream",
          "name": "stdout",
          "text": [
            "Hasil Inorder traversal dari binary search tree:\n",
            "20 30 40 50 60 70 80 \n",
            "Hasil Preorder traversal dari binary search tree:\n",
            "50 30 20 40 70 60 80 \n",
            "Hasil Postorder traversal dari binary search tree:\n",
            "20 40 30 60 80 70 50 "
          ]
        }
      ]
    },
    {
      "cell_type": "markdown",
      "source": [
        "### **Pencarian nilai dalam BST**"
      ],
      "metadata": {
        "id": "ObwcHkrv3XiK"
      }
    },
    {
      "cell_type": "code",
      "source": [
        "def search(node, key):\n",
        "  if node is None or node.data == key:\n",
        "    return node\n",
        "  if key < node.data:\n",
        "    return search(node.left, key)\n",
        "  return search(node.right, key)\n",
        "\n",
        "key = 60\n",
        "result = search(root, key)\n",
        "if result:\n",
        "  print(f\"Node dengan nilai {key} ditemukan dalam BST.\")\n",
        "else:\n",
        "  print(f\"Node dengan nilai {key} tidak ditemukan dalam BST.\")\n",
        "\n",
        "key = 25\n",
        "result = search(root, key)\n",
        "if result:\n",
        "  print(f\"Node dengan nilai {key} ditemukan dalam BST.\")\n",
        "else:\n",
        "  print(f\"Node dengan nilai {key} tidak ditemukan dalam BST.\")"
      ],
      "metadata": {
        "colab": {
          "base_uri": "https://localhost:8080/"
        },
        "id": "yo7WnkYc5AoK",
        "outputId": "aa660999-021a-4dea-aed5-cde6b1b15906"
      },
      "execution_count": null,
      "outputs": [
        {
          "output_type": "stream",
          "name": "stdout",
          "text": [
            "Node dengan nilai 60 ditemukan dalam BST.\n",
            "Node dengan nilai 25 tidak ditemukan dalam BST.\n"
          ]
        }
      ]
    }
  ]
}