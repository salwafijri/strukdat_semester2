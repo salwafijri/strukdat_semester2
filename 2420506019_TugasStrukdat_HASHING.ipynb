{
  "nbformat": 4,
  "nbformat_minor": 0,
  "metadata": {
    "colab": {
      "provenance": []
    },
    "kernelspec": {
      "name": "python3",
      "display_name": "Python 3"
    },
    "language_info": {
      "name": "python"
    }
  },
  "cells": [
    {
      "cell_type": "markdown",
      "source": [
        "### **LATIHAN / TUGAS**"
      ],
      "metadata": {
        "id": "rPSh6-k5240m"
      }
    },
    {
      "cell_type": "code",
      "source": [
        "# 1. Eksperimen sederhana Linear Probing\n",
        "\n",
        "class LinearProbingHashTable:\n",
        "  def __init__(self, size):\n",
        "    self.size = size\n",
        "    self.table = [None] * size\n",
        "  def hash_function(self, key):\n",
        "    return hash(key) % self.size\n",
        "  def insert(self, key, value):\n",
        "    index = self.hash_function(key)\n",
        "    original_index = index\n",
        "    while self.table[index] is not None:\n",
        "      if self.table[index][0] == key:\n",
        "        break\n",
        "      index = (index + 1) % self.size\n",
        "      if index == original_index:\n",
        "        raise Exception(\"Hash table penuh\")\n",
        "    self.table[index] = (key, value)\n",
        "  def search(self, key):\n",
        "    index = self.hash_function(key)\n",
        "    original_index = index\n",
        "    while self.table[index] is not None:\n",
        "      if self.table[index][0] == key:\n",
        "        return self.table[index][1]\n",
        "      index = (index + 1) % self.size\n",
        "      if index == original_index:\n",
        "        break\n",
        "    return None\n",
        "\n",
        "ht = LinearProbingHashTable(5) # ukuran tabel 5\n",
        "ht.insert(\"A\", 10) # memasukkan pasangan key-value\n",
        "ht.insert(\"B\", 20)\n",
        "ht.insert(\"C\", 30)\n",
        "ht.insert(\"D\", 40)\n",
        "ht.insert(\"E\", 50)\n",
        "\n",
        "# cetak isi tabel\n",
        "print(\"Isi tabel hash setelah data disisipkan:\")\n",
        "for i, value in enumerate(ht.table):\n",
        "  print(f\"Index {i}: {value}\")"
      ],
      "metadata": {
        "colab": {
          "base_uri": "https://localhost:8080/"
        },
        "id": "gzFzSw3V28jE",
        "outputId": "c7511b9f-dbc8-4f08-b44c-df722e3f44fb"
      },
      "execution_count": 12,
      "outputs": [
        {
          "output_type": "stream",
          "name": "stdout",
          "text": [
            "Isi tabel hash setelah data disisipkan:\n",
            "Index 0: ('A', 10)\n",
            "Index 1: ('B', 20)\n",
            "Index 2: ('C', 30)\n",
            "Index 3: ('E', 50)\n",
            "Index 4: ('D', 40)\n"
          ]
        }
      ]
    },
    {
      "cell_type": "markdown",
      "source": [
        "### **Percobaan Dasar Chaining**"
      ],
      "metadata": {
        "id": "r_UhPjnz4tfk"
      }
    },
    {
      "cell_type": "code",
      "source": [
        "class ChainingHashTable:\n",
        "  def __init__(self, size):\n",
        "    self.size = size\n",
        "    self.table = [[] for _ in range(size)]\n",
        "  def hash_function(self, key):\n",
        "    return hash(key) % self.size\n",
        "  def insert(self, key, value):\n",
        "    index = self.hash_function(key)\n",
        "    for i, (k, v) in enumerate(self.table[index]):\n",
        "      if k == key:\n",
        "        self.table[index][i] = (key, value)\n",
        "        return\n",
        "    self.table[index].append((key, value))\n",
        "  def search(self, key):\n",
        "    index = self.hash_function(key)\n",
        "    for k, v in self.table[index]:\n",
        "      if k == key:\n",
        "        return v\n",
        "    return None\n",
        "\n",
        "# Gunakan ukuran tabel 3\n",
        "ht = ChainingHashTable(3)\n",
        "ht.insert(\"apel\", 100)\n",
        "ht.insert(\"melon\", 200)\n",
        "ht.insert(\"lemon\", 300)\n",
        "ht.insert(\"pisang\", 400)\n",
        "\n",
        "# Cetak isi tabel chaining\n",
        "print(\"Isi tabel (chaining):\")\n",
        "for i, value in enumerate(ht.table):\n",
        "    print(f\"Index {i}: {value}\")"
      ],
      "metadata": {
        "colab": {
          "base_uri": "https://localhost:8080/"
        },
        "id": "Mdtb9dZY3uz2",
        "outputId": "18aecf5a-1b22-4654-cf7b-9dfafbda5d5b"
      },
      "execution_count": 8,
      "outputs": [
        {
          "output_type": "stream",
          "name": "stdout",
          "text": [
            "Isi tabel (chaining):\n",
            "Index 0: [('apel', 100), ('lemon', 300)]\n",
            "Index 1: [('melon', 200)]\n",
            "Index 2: [('pisang', 400)]\n"
          ]
        }
      ]
    }
  ]
}