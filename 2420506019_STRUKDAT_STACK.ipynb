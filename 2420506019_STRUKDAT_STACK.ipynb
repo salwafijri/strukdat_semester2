{
  "nbformat": 4,
  "nbformat_minor": 0,
  "metadata": {
    "colab": {
      "provenance": []
    },
    "kernelspec": {
      "name": "python3",
      "display_name": "Python 3"
    },
    "language_info": {
      "name": "python"
    }
  },
  "cells": [
    {
      "cell_type": "markdown",
      "source": [
        "## **PERCOBAAN**"
      ],
      "metadata": {
        "id": "qb0ExOFyaEFU"
      }
    },
    {
      "cell_type": "markdown",
      "source": [
        "**Menambahkan Elemen ke Stack**"
      ],
      "metadata": {
        "id": "oX2Iypp7aK-0"
      }
    },
    {
      "cell_type": "code",
      "source": [
        "class Stack:\n",
        "  def __init__(self):\n",
        "    self.stack = []\n",
        "  def push(self, item):\n",
        "    self.stack.append(item)\n",
        "\n",
        "# Contoh penggunaan\n",
        "s = Stack()\n",
        "s.push(5)\n",
        "print(s.stack)  # Output: [5]"
      ],
      "metadata": {
        "colab": {
          "base_uri": "https://localhost:8080/"
        },
        "id": "b4A_WjKGaTNE",
        "outputId": "cdfef635-41ca-40d6-936a-3eccf23e8042"
      },
      "execution_count": null,
      "outputs": [
        {
          "output_type": "stream",
          "name": "stdout",
          "text": [
            "[5]\n"
          ]
        }
      ]
    },
    {
      "cell_type": "markdown",
      "source": [
        "**Menghapus Elemen dari Stack**"
      ],
      "metadata": {
        "id": "ohGhncf6abe8"
      }
    },
    {
      "cell_type": "code",
      "source": [
        "class Stack:\n",
        "  def __init__(self):\n",
        "    self.stack = []\n",
        "  def push(self, item):\n",
        "    self.stack.append(item)\n",
        "  def pop(self):\n",
        "    if len(self.stack) == 0:\n",
        "      return \"Stack Kosong\"\n",
        "    return self.stack.pop()\n",
        "\n",
        "# Contoh penggunaan\n",
        "s = Stack()\n",
        "s.push(5)\n",
        "s.push(10)\n",
        "print(s.pop())  # Output: 10\n",
        "print(s.stack)  # Output: [5]"
      ],
      "metadata": {
        "colab": {
          "base_uri": "https://localhost:8080/"
        },
        "id": "-6krSGL-ab6c",
        "outputId": "e30dbe56-f5d8-4cfb-a1ff-e4c1d8646d4a"
      },
      "execution_count": null,
      "outputs": [
        {
          "output_type": "stream",
          "name": "stdout",
          "text": [
            "10\n",
            "[5]\n"
          ]
        }
      ]
    },
    {
      "cell_type": "markdown",
      "source": [
        " **Melihat Elemen Teratas Tanpa Menghapusnya**"
      ],
      "metadata": {
        "id": "Hw1bPIZAa27M"
      }
    },
    {
      "cell_type": "code",
      "source": [
        "class Stack:\n",
        "  def __init__(self):\n",
        "    self.stack = []\n",
        "  def push(self, item):\n",
        "    self.stack.append(item)\n",
        "  def peek(self):\n",
        "    if len(self.stack) == 0:\n",
        "      return \"Stack Kosong\"\n",
        "    return self.stack[-1]\n",
        "\n",
        "# Contoh penggunaan\n",
        "s = Stack()\n",
        "s.push(5)\n",
        "s.push(10)\n",
        "print(s.peek())  # Output: 10\n",
        "print(s.stack)   # Stack tetap [5, 10]"
      ],
      "metadata": {
        "colab": {
          "base_uri": "https://localhost:8080/"
        },
        "id": "Vhqr_EaBa7q1",
        "outputId": "d7f64afc-fb7d-468c-e65e-8581ecb843a4"
      },
      "execution_count": null,
      "outputs": [
        {
          "output_type": "stream",
          "name": "stdout",
          "text": [
            "10\n",
            "[5, 10]\n"
          ]
        }
      ]
    },
    {
      "cell_type": "markdown",
      "source": [
        "**Mengecek Apakah Stack Kosong**"
      ],
      "metadata": {
        "id": "iHNQGXRubHxk"
      }
    },
    {
      "cell_type": "code",
      "source": [
        "class Stack:\n",
        "  def __init__(self):\n",
        "    self.stack = []\n",
        "  def push(self, item):\n",
        "    self.stack.append(item)\n",
        "  def is_empty(self):\n",
        "    return len(self.stack) == 0\n",
        "\n",
        "# Contoh penggunaan\n",
        "s = Stack()\n",
        "print(s.is_empty())  # Output: True\n",
        "s.push(5)\n",
        "print(s.is_empty())  # Output: False"
      ],
      "metadata": {
        "colab": {
          "base_uri": "https://localhost:8080/"
        },
        "id": "bqRaXGt4bU78",
        "outputId": "6598c1e0-ff7b-493f-cc92-5738bb3f62a5"
      },
      "execution_count": null,
      "outputs": [
        {
          "output_type": "stream",
          "name": "stdout",
          "text": [
            "True\n",
            "False\n"
          ]
        }
      ]
    },
    {
      "cell_type": "markdown",
      "source": [
        "## **PRAKTIKUM**"
      ],
      "metadata": {
        "id": "h8ncS_qaZ-R1"
      }
    },
    {
      "cell_type": "markdown",
      "source": [
        "**Implementasi stack dengan list python -- Fitur undo dalam text editor**"
      ],
      "metadata": {
        "id": "neqFgR10OSkn"
      }
    },
    {
      "cell_type": "code",
      "source": [
        "class TextEditor:\n",
        "  def __init__(self):\n",
        "    self.history = []\n",
        "  def write(self, text):\n",
        "    self.history.append(text)\n",
        "  def undo(self):\n",
        "    if self.history:\n",
        "      return f\"Undo: Menghapus '{self.history.pop()}'\"\n",
        "    return \"Tidak ada yang bisa di-undo\"\n",
        "# Contoh Penggunaan\n",
        "editor = TextEditor()\n",
        "editor.write(\"Halo, ini teks pertama.\")\n",
        "editor.write(\"Ini teks kedua.\")\n",
        "editor.write(\"Ini teks ketiga.\")\n",
        "print(editor.undo())\n",
        "print(editor.undo())"
      ],
      "metadata": {
        "colab": {
          "base_uri": "https://localhost:8080/"
        },
        "id": "ncKxhv3dSw8W",
        "outputId": "f8d88b5c-ad5a-414b-e3e6-d791b719a665"
      },
      "execution_count": null,
      "outputs": [
        {
          "output_type": "stream",
          "name": "stdout",
          "text": [
            "Undo: Menghapus 'Ini teks ketiga.'\n",
            "Undo: Menghapus 'Ini teks kedua.'\n"
          ]
        }
      ]
    },
    {
      "cell_type": "markdown",
      "source": [
        "**Latihan 1**"
      ],
      "metadata": {
        "id": "a1Xm8UVEOOEY"
      }
    },
    {
      "cell_type": "code",
      "source": [
        "class Kalkulator:\n",
        "    def __init__(self, angka_awal):\n",
        "        self.stack = [(angka_awal, f\"{angka_awal}\")]  # Stack menyimpan angka dan ekspresi operasinya\n",
        "\n",
        "    def operasi(self, operator, angka):\n",
        "        awal, _ = self.stack[-1]  # Ambil angka terakhir dari stack\n",
        "\n",
        "        if operator == \"+\":\n",
        "            hasil = awal + angka\n",
        "        elif operator == \"-\":\n",
        "            hasil = awal - angka\n",
        "        elif operator == \"*\":\n",
        "            hasil = awal * angka\n",
        "        elif operator == \"/\":\n",
        "            if angka == 0:\n",
        "                print(\"Error: Pembagian dengan nol tidak diperbolehkan!\")\n",
        "                return\n",
        "            hasil = awal / angka\n",
        "        else:\n",
        "            print(\"Operator tidak valid!\")\n",
        "            return\n",
        "\n",
        "        operasi_str = f\"{awal} {operator} {angka} = {hasil}\"\n",
        "        self.stack.append((hasil, operasi_str))  # Simpan hasil operasi ke stack\n",
        "        print(f\"Hasil sekarang: {operasi_str}\")\n",
        "\n",
        "    def undo(self):\n",
        "        if len(self.stack) > 1:\n",
        "            last_value, last_operation = self.stack.pop()  # Hapus operasi terakhir\n",
        "            current_value, current_operation = self.stack[-1]  # Ambil nilai sebelumnya\n",
        "            print(f\"\\nUndo berhasil! Operasi '{last_operation}' dibatalkan.\")\n",
        "            print(f\"Hasil sekarang: {current_operation}\")\n",
        "        else:\n",
        "            print(\"\\nTidak ada operasi untuk dibatalkan.\")\n",
        "\n",
        "npm = 19  # Dua digit terakhir NPM saya sebagai angka awal\n",
        "calc = Kalkulator(npm)\n",
        "\n",
        "# operasi\n",
        "calc.operasi(\"+\", 4)  # 19 + 4 = 23\n",
        "calc.operasi(\"-\", 7)  # 23 - 7 = 16\n",
        "calc.operasi(\"*\", 5)  # 16 * 5 = 80\n",
        "\n",
        "# Menguji fitur Undo dengan dua kali Undo\n",
        "calc.undo()  # Kembali ke 23 - 7 = 16\n",
        "calc.undo()  # Kembali ke 19 + 4 = 23\n"
      ],
      "metadata": {
        "colab": {
          "base_uri": "https://localhost:8080/"
        },
        "id": "ITKgWAX8MdYO",
        "outputId": "c6ebe6ba-0099-4b3b-b7bf-fe3d927e843d"
      },
      "execution_count": 4,
      "outputs": [
        {
          "output_type": "stream",
          "name": "stdout",
          "text": [
            "Hasil sekarang: 19 + 4 = 23\n",
            "Hasil sekarang: 23 - 7 = 16\n",
            "Hasil sekarang: 16 * 5 = 80\n",
            "\n",
            "Undo berhasil! Operasi '16 * 5 = 80' dibatalkan.\n",
            "Hasil sekarang: 23 - 7 = 16\n",
            "\n",
            "Undo berhasil! Operasi '23 - 7 = 16' dibatalkan.\n",
            "Hasil sekarang: 19 + 4 = 23\n"
          ]
        }
      ]
    },
    {
      "cell_type": "markdown",
      "source": [
        "**Implementasi Stack dengan collections.deque – Navigasi History Browser**"
      ],
      "metadata": {
        "id": "vTFrCSbHYA51"
      }
    },
    {
      "cell_type": "code",
      "source": [
        "from collections import deque\n",
        "class BrowserHistory:\n",
        "  def __init__(self):\n",
        "    self.history = deque()\n",
        "  def visit(self, url):\n",
        "    self.history.append(url)\n",
        "    print(f\"Mengunjungi: {url}\")\n",
        "  def back(self):\n",
        "    if self.history:\n",
        "      print(f\"Kembali ke: {self.history.pop()}\")\n",
        "    else:\n",
        "      print(\"Tidak ada riwayat!\")\n",
        "\n",
        "# Contoh Penggunaan\n",
        "browser = BrowserHistory()\n",
        "browser.visit(\"google.com\")\n",
        "browser.visit(\"youtube.com\")\n",
        "browser.visit(\"github.com\")\n",
        "\n",
        "browser.back()\n",
        "browser.back()"
      ],
      "metadata": {
        "colab": {
          "base_uri": "https://localhost:8080/"
        },
        "id": "X7djAwh-YfAs",
        "outputId": "28452791-4b2e-48a7-9f71-05ca8d9c8e41"
      },
      "execution_count": null,
      "outputs": [
        {
          "output_type": "stream",
          "name": "stdout",
          "text": [
            "Mengunjungi: google.com\n",
            "Mengunjungi: youtube.com\n",
            "Mengunjungi: github.com\n",
            "Kembali ke: github.com\n",
            "Kembali ke: youtube.com\n"
          ]
        }
      ]
    },
    {
      "cell_type": "markdown",
      "source": [
        "**Latihan 2**"
      ],
      "metadata": {
        "id": "qTOWGQ93b6-s"
      }
    },
    {
      "cell_type": "code",
      "source": [
        "from collections import deque\n",
        "class AppsHistory:\n",
        "  def __init__(self):\n",
        "    self.history = deque()\n",
        "  def visit(self, apps):\n",
        "    self.history.append(apps)\n",
        "    print(f\"Mengunjungi: {apps}\")\n",
        "  def back(self):\n",
        "    if self.history:\n",
        "      print(f\"Kembali ke: {self.history.pop()}\")\n",
        "    else:\n",
        "      print(\"Tidak ada riwayat!\")\n",
        "\n",
        "# Contoh Penggunaan\n",
        "fitur = AppsHistory()\n",
        "\n",
        "while True:\n",
        "  print(\"Pilih:\")\n",
        "  print(\"1. Tampilkan fitur\")\n",
        "  print(\"2. Kembali ke fitur sebelumnya\")\n",
        "  print(\"3. Keluar\")\n",
        "  print()\n",
        "\n",
        "  pilihan = input(\"Masukkan pilihan (1-4): \")\n",
        "\n",
        "  if pilihan == '1':\n",
        "    fitur.visit(\"J19\")\n",
        "    fitur.visit(\"J20\")\n",
        "    fitur.visit(\"J21\")\n",
        "    fitur.visit(\"J22\")\n",
        "    print()\n",
        "  elif pilihan == '2':\n",
        "    fitur.back()\n",
        "  elif pilihan == '3':\n",
        "    print(\"Program berakhir.\")\n",
        "    break\n",
        "  else:\n",
        "    print(\"Pilihan tidak valid.\")"
      ],
      "metadata": {
        "id": "Ls3XyFxSb-Jz",
        "colab": {
          "base_uri": "https://localhost:8080/"
        },
        "outputId": "06a6d26f-6dbd-4d5a-dd90-1acafe4cc72c"
      },
      "execution_count": 7,
      "outputs": [
        {
          "output_type": "stream",
          "name": "stdout",
          "text": [
            "Pilih:\n",
            "1. Tampilkan fitur\n",
            "2. Kembali ke fitur sebelumnya\n",
            "3. Keluar\n",
            "\n",
            "Masukkan pilihan (1-4): 1\n",
            "Mengunjungi: J19\n",
            "Mengunjungi: J20\n",
            "Mengunjungi: J21\n",
            "Mengunjungi: J22\n",
            "\n",
            "Pilih:\n",
            "1. Tampilkan fitur\n",
            "2. Kembali ke fitur sebelumnya\n",
            "3. Keluar\n",
            "\n",
            "Masukkan pilihan (1-4): 2\n",
            "Kembali ke: J22\n",
            "Pilih:\n",
            "1. Tampilkan fitur\n",
            "2. Kembali ke fitur sebelumnya\n",
            "3. Keluar\n",
            "\n",
            "Masukkan pilihan (1-4): 2\n",
            "Kembali ke: J21\n",
            "Pilih:\n",
            "1. Tampilkan fitur\n",
            "2. Kembali ke fitur sebelumnya\n",
            "3. Keluar\n",
            "\n",
            "Masukkan pilihan (1-4): 3\n",
            "Program berakhir.\n"
          ]
        }
      ]
    },
    {
      "cell_type": "markdown",
      "source": [
        "**Implementasi Stack dengan queue.LifoQueue – Sistem Pencadangan File**"
      ],
      "metadata": {
        "id": "z5bYZAD7Yvkc"
      }
    },
    {
      "cell_type": "code",
      "source": [
        "from queue import LifoQueue\n",
        "\n",
        "class BackupSystem:\n",
        "  def __init__(self):\n",
        "    self.backups = LifoQueue()\n",
        "  def backup(self, version):\n",
        "    self.backups.put(version)\n",
        "  def latest_backup(self):\n",
        "    if not self.backups.empty():\n",
        "      return f\"Versi terbaru: {self.backups.queue[-1]}\"\n",
        "    return \"Tidak ada cadangan!\"\n",
        "\n",
        "# Contoh Penggunaan\n",
        "backup_system = BackupSystem()\n",
        "backup_system.backup(\"Backup_1\")\n",
        "backup_system.backup(\"Backup_2\")\n",
        "backup_system.backup(\"Backup_3\")\n",
        "\n",
        "print(backup_system.latest_backup())"
      ],
      "metadata": {
        "colab": {
          "base_uri": "https://localhost:8080/"
        },
        "id": "fnZNBub9R06e",
        "outputId": "aff9a0ca-edf2-4b60-9451-50d0dcc0e252"
      },
      "execution_count": null,
      "outputs": [
        {
          "output_type": "stream",
          "name": "stdout",
          "text": [
            "Versi terbaru: Backup_3\n"
          ]
        }
      ]
    },
    {
      "cell_type": "markdown",
      "source": [
        "**Latihan 3**"
      ],
      "metadata": {
        "id": "9p0beohgb_KF"
      }
    },
    {
      "cell_type": "code",
      "source": [
        "from queue import LifoQueue\n",
        "\n",
        "class Email:\n",
        "    def __init__(self):\n",
        "        self.drafts = LifoQueue()\n",
        "\n",
        "    def save_draft(self, subject, content):\n",
        "        self.drafts.put((subject, content))\n",
        "        print(f\"Draft dengan subjek '{subject}' berhasil disimpan.\")\n",
        "\n",
        "    def draft_terbaru(self):\n",
        "        if not self.drafts.empty():\n",
        "            subject, content = self.drafts.queue[-1]\n",
        "            return f\"Draft terakhir: \\nSubjek: {subject} \\nIsi: {content}\"\n",
        "        return \"Tidak ada draft yang tersimpan!\"\n",
        "\n",
        "draft = Email()\n",
        "\n",
        "draft.save_draft(\"SA19\", \"Halo, ini adalah draft pertama.\")\n",
        "draft.save_draft(\"SA20\", \"Halo, saya sedang belajar python\")\n",
        "draft.save_draft(\"SA21\", \"Halo, saya sedang belajar stack.\")\n",
        "\n",
        "print(draft.draft_terbaru())"
      ],
      "metadata": {
        "colab": {
          "base_uri": "https://localhost:8080/"
        },
        "id": "sEpYTpS8Wq16",
        "outputId": "c3bac3ad-8e55-4b10-c35c-224ab7244f9d"
      },
      "execution_count": 9,
      "outputs": [
        {
          "output_type": "stream",
          "name": "stdout",
          "text": [
            "Draft dengan subjek 'SA19' berhasil disimpan.\n",
            "Draft dengan subjek 'SA20' berhasil disimpan.\n",
            "Draft dengan subjek 'SA21' berhasil disimpan.\n",
            "Draft terakhir: \n",
            "Subjek: SA21 \n",
            "Isi: Halo, saya sedang belajar stack.\n"
          ]
        }
      ]
    },
    {
      "cell_type": "markdown",
      "source": [
        "**Implementasi Stack dengan OOP – Manajemen Antrian Pelanggan**"
      ],
      "metadata": {
        "id": "1NHCJQ18ZKtM"
      }
    },
    {
      "cell_type": "code",
      "source": [
        "class CustomerService:\n",
        "  def __init__(self):\n",
        "    self.tickets = []\n",
        "  def add_ticket(self, ticket):\n",
        "    self.tickets.append(ticket)\n",
        "  def process_ticket(self):\n",
        "    if not self.is_empty():\n",
        "      return f\"Memproses tiket: {self.tickets.pop()}\"\n",
        "    return \"Tidak ada tiket yang harus diproses.\"\n",
        "  def is_empty(self):\n",
        "    return len(self.tickets) == 0\n",
        "\n",
        "# Contoh Penggunaan\n",
        "service = CustomerService()\n",
        "service.add_ticket(\"Tiket 001\")\n",
        "service.add_ticket(\"Tiket 002\")\n",
        "\n",
        "print(service.process_ticket())\n",
        "print(service.is_empty())"
      ],
      "metadata": {
        "colab": {
          "base_uri": "https://localhost:8080/"
        },
        "id": "WuDOKaobZFct",
        "outputId": "b63ad590-5760-4a59-861c-2c541a00f5e8"
      },
      "execution_count": null,
      "outputs": [
        {
          "output_type": "stream",
          "name": "stdout",
          "text": [
            "Memproses tiket: Tiket 002\n",
            "False\n"
          ]
        }
      ]
    },
    {
      "cell_type": "markdown",
      "source": [
        "**Latihan 4**"
      ],
      "metadata": {
        "id": "6CS1cn_lcEh7"
      }
    },
    {
      "cell_type": "code",
      "source": [
        "class Bioskop:\n",
        "    def __init__(self):\n",
        "        self.tiket = []  # Stack untuk menyimpan tiket\n",
        "\n",
        "    def beli_tiket(self, film):\n",
        "        self.tiket.append(film)\n",
        "        print(f\"Tiket untuk film '{film}' berhasil dibeli.\")\n",
        "\n",
        "    def proses_tiket(self):\n",
        "        if not self.kosong():\n",
        "            return f\"Memproses tiket: {self.tiket.pop()}\"\n",
        "        return \"Tidak ada tiket yang harus diproses.\"\n",
        "\n",
        "    def kosong(self):\n",
        "        return len(self.tiket) == 0\n",
        "\n",
        "bulan_lahir = \"J\"  # Huruf pertama bulan lahir saya\n",
        "npm = \"19\"  # Dua digit terakhir NPM saya\n",
        "\n",
        "film1 = bulan_lahir + npm + \"01\"\n",
        "film2 = bulan_lahir + npm + \"02\"\n",
        "film3 = bulan_lahir + npm + \"03\"\n",
        "\n",
        "bioskop = Bioskop()\n",
        "bioskop.beli_tiket(film1)\n",
        "bioskop.beli_tiket(film2)\n",
        "bioskop.beli_tiket(film3)\n",
        "\n",
        "print(bioskop.proses_tiket())  # Memproses tiket terakhir yang dibeli\n",
        "print(bioskop.proses_tiket())  # Memproses tiket sebelumnya\n",
        "print(bioskop.proses_tiket())  # Memproses tiket pertama"
      ],
      "metadata": {
        "colab": {
          "base_uri": "https://localhost:8080/"
        },
        "id": "o0GfbRvDae2z",
        "outputId": "948abc64-2830-41d7-bded-16fb1460aef8"
      },
      "execution_count": 12,
      "outputs": [
        {
          "output_type": "stream",
          "name": "stdout",
          "text": [
            "Tiket untuk film 'J1901' berhasil dibeli.\n",
            "Tiket untuk film 'J1902' berhasil dibeli.\n",
            "Tiket untuk film 'J1903' berhasil dibeli.\n",
            "Memproses tiket: J1903\n",
            "Memproses tiket: J1902\n",
            "Memproses tiket: J1901\n"
          ]
        }
      ]
    }
  ]
}