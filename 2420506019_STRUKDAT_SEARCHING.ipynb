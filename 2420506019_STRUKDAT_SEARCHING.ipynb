{
  "nbformat": 4,
  "nbformat_minor": 0,
  "metadata": {
    "colab": {
      "provenance": []
    },
    "kernelspec": {
      "name": "python3",
      "display_name": "Python 3"
    },
    "language_info": {
      "name": "python"
    }
  },
  "cells": [
    {
      "cell_type": "markdown",
      "source": [
        "### **PRAKTIKUM / PERCOBAAN**"
      ],
      "metadata": {
        "id": "RZuq6LcgWAtG"
      }
    },
    {
      "cell_type": "markdown",
      "source": [
        "**Linier Search**"
      ],
      "metadata": {
        "id": "0vp_kBS6WHV2"
      }
    },
    {
      "cell_type": "code",
      "execution_count": null,
      "metadata": {
        "colab": {
          "base_uri": "https://localhost:8080/"
        },
        "id": "henaOaXlQabL",
        "outputId": "27d75c2f-5f71-4299-c8a3-57b4e4b916a9"
      },
      "outputs": [
        {
          "output_type": "stream",
          "name": "stdout",
          "text": [
            "Masukkan 3 digit terakhir NPM anda: 019\n",
            "Elemen ditemukan pada indeks 3\n"
          ]
        }
      ],
      "source": [
        "def linear_search(arr, target):\n",
        "  for i in range(len(arr)):\n",
        "    if arr[i] == target:\n",
        "      return i\n",
        "  return -1\n",
        "\n",
        "arr = [4, 90, 76, 19, 85, 44]\n",
        "target = int(input(\"Masukkan 3 digit terakhir NPM anda: \"))\n",
        "\n",
        "result = linear_search(arr, target)\n",
        "\n",
        "if result != -1:\n",
        "  print(\"Elemen ditemukan pada indeks\", result)\n",
        "else:\n",
        "  print(\"Target tidak ditemukan\")"
      ]
    },
    {
      "cell_type": "markdown",
      "source": [
        "**Binary Search**"
      ],
      "metadata": {
        "id": "HTWBJZrFWOfV"
      }
    },
    {
      "cell_type": "code",
      "source": [
        "def binary_search(arr, target):\n",
        "  low = 0\n",
        "  high = len(arr) - 1\n",
        "\n",
        "  while low <= high:\n",
        "    mid = (low + high) // 2\n",
        "    if arr[mid] == target:\n",
        "      return mid\n",
        "    elif arr[mid] < target:\n",
        "      low = mid + 1\n",
        "    else:\n",
        "      high = mid - 1\n",
        "  return -1\n",
        "\n",
        "arr = [601, 1000, 2000, 3000, 4000, 5000]\n",
        "target = int(input(\"Masukkan tanggal lahir anda (DDMM): \"))\n",
        "\n",
        "result = binary_search(arr, target)\n",
        "if result != -1:\n",
        "  print(\"Elemen ditemukan pada indeks\", result)\n",
        "else:\n",
        "  print(\"Target tidak ditemukan\")"
      ],
      "metadata": {
        "colab": {
          "base_uri": "https://localhost:8080/"
        },
        "id": "-5blDhW0Vz3X",
        "outputId": "6a30e98c-4a6b-46ac-9682-fadee0166cb7"
      },
      "execution_count": null,
      "outputs": [
        {
          "output_type": "stream",
          "name": "stdout",
          "text": [
            "Masukkan tanggal lahir anda (DDMM): 0601\n",
            "Elemen ditemukan pada indeks 0\n"
          ]
        }
      ]
    },
    {
      "cell_type": "markdown",
      "source": [
        "**Jump Search**"
      ],
      "metadata": {
        "id": "xvPsm9f5XGjm"
      }
    },
    {
      "cell_type": "code",
      "source": [
        "import math\n",
        "\n",
        "def jump_search(arr, target):\n",
        "  n = len(arr)\n",
        "  step = int(math.sqrt(n))\n",
        "  prev = 0\n",
        "\n",
        "  while arr[min(step, n) - 1] < target:\n",
        "    prev = step\n",
        "    step += int(math.sqrt(n))\n",
        "    if prev >= n:\n",
        "      return -1\n",
        "\n",
        "  for i in range(prev, min(step, n)):\n",
        "    if arr[i][0] == target:\n",
        "      return i\n",
        "  return -1\n",
        "\n",
        "arr = [\"Akmal\", \"Dzakii\", \"Hammam\", \"Kartika\", \"Nawang\", \"Rahma\", \"Setiasih\"]\n",
        "target = input(\"Masukkan inisial nama anda: \")\n",
        "\n",
        "result = jump_search(arr, target)\n",
        "\n",
        "if result != -1:\n",
        "  print(\"Elemen ditemukan pada indeks\", result)\n",
        "else:\n",
        "  print(\"Target tidak ditemukan\")"
      ],
      "metadata": {
        "colab": {
          "base_uri": "https://localhost:8080/"
        },
        "id": "PQKWd_vsW8s2",
        "outputId": "d5ea03d5-2e45-4a70-a69c-4fd32c527ba5"
      },
      "execution_count": null,
      "outputs": [
        {
          "output_type": "stream",
          "name": "stdout",
          "text": [
            "Masukkan inisial nama anda: N\n",
            "Elemen ditemukan pada indeks 4\n"
          ]
        }
      ]
    }
  ]
}