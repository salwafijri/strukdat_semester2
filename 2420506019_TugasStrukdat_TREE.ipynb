{
  "nbformat": 4,
  "nbformat_minor": 0,
  "metadata": {
    "colab": {
      "provenance": []
    },
    "kernelspec": {
      "name": "python3",
      "display_name": "Python 3"
    },
    "language_info": {
      "name": "python"
    }
  },
  "cells": [
    {
      "cell_type": "markdown",
      "source": [
        "**LATIHAN/TUGAS**"
      ],
      "metadata": {
        "id": "w_BeB6s_-XZH"
      }
    },
    {
      "cell_type": "markdown",
      "source": [
        "Tugas 1: Program struktur binary tree manual"
      ],
      "metadata": {
        "id": "V9jVAqv3-c_2"
      }
    },
    {
      "cell_type": "code",
      "execution_count": null,
      "metadata": {
        "colab": {
          "base_uri": "https://localhost:8080/"
        },
        "id": "-5Joth9H-V0b",
        "outputId": "a998a8e7-ff19-4787-f9ec-bc2ec19fa1c4"
      },
      "outputs": [
        {
          "output_type": "stream",
          "name": "stdout",
          "text": [
            "Hasil Inorder traversal dari binary tree:\n",
            "6 7 16 19 1 "
          ]
        }
      ],
      "source": [
        "# struktur Tree berdasarkan identitas saya\n",
        "\n",
        "class Node:\n",
        "  def __init__(self, data):\n",
        "    self.data = data\n",
        "    self.left = None\n",
        "    self.right = None\n",
        "\n",
        "#membuat tree secara manual\n",
        "root = Node(16)\n",
        "root.left = Node(7)\n",
        "root.right = Node(19)\n",
        "root.left.left = Node(6)\n",
        "root.right.right = Node(1)\n",
        "\n",
        "# fungsi inorder traversal\n",
        "def inorder(node):\n",
        "  if node:\n",
        "    inorder(node.left)\n",
        "    print(node.data, end=\" \")\n",
        "    inorder(node.right)\n",
        "\n",
        "print(\"Hasil Inorder traversal dari binary tree:\")\n",
        "inorder(root)"
      ]
    },
    {
      "cell_type": "markdown",
      "source": [
        "Tugas 2: Program BST"
      ],
      "metadata": {
        "id": "1pXrgE7hC1zl"
      }
    },
    {
      "cell_type": "code",
      "source": [
        "# Membuat class node untuk tiap elemen tree\n",
        "class Node:\n",
        "  def __init__(self, data):\n",
        "    self.data = data # Nilai yang disimpan di node\n",
        "    self.left = None # Pointer ke anak kiri\n",
        "    self.right = None # Pointer ke anak kanan\n",
        "\n",
        "# Membuat class untuk Binary Search Tree\n",
        "class BinarySearchTree:\n",
        "  def __init__(self):\n",
        "    self.root = None # Root awal dari tree adalah None (kosong)\n",
        "  def insert(self, root, data): # Method untuk menyisipkan data ke tree\n",
        "    if root is None: # Jika root kosong, buat node baru\n",
        "      return Node(data)\n",
        "    if data < root.data: # Jika data lebih kecil, sisip ke subtree kiri\n",
        "      root.left = self.insert(root.left, data)\n",
        "    else: # Jika data lebih besar atau sama, sisip ke subtree kanan\n",
        "      root.right = self.insert(root.right, data)\n",
        "    return root # Kembalikan node root yang sudah diperbarui\n",
        "  def search(self, root, data): # Method untuk mencari nilai di tree\n",
        "    if root is None or root.data == data: # Jika root kosong atau cocok\n",
        "      return root is not None # Kembalikan True jika ditemukan, False jika tidak\n",
        "    if data < root.data: # Jika data lebih kecil, cari di kiri\n",
        "      return self.search(root.left, data)\n",
        "    return self.search(root.right, data) # Jika data lebih besar, cari di kanan\n",
        "\n",
        "bst = BinarySearchTree() # Inisialisasi objek BST\n",
        "data_list = [619, 6, 1, 83, 65, 17, 7] # Daftar nilai yang akan dimasukkan ke BST\n",
        "for value in data_list:\n",
        "  bst.root = bst.insert(bst.root, value) # Masukkan setiap nilai ke BST\n",
        "\n",
        "# Fungsi inorder traversal (kiri - root - kanan)\n",
        "def inorder_traversal(root):\n",
        "    if root:\n",
        "        inorder_traversal(root.left) # Telusuri anak kiri\n",
        "        print(root.data, end=' ') # Cetak nilai node\n",
        "        inorder_traversal(root.right) # Telusuri anak kanan\n",
        "\n",
        "# Fungsi preorder traversal (root - kiri - kanan)\n",
        "def preorder_traversal(root):\n",
        "    if root:\n",
        "        print(root.data, end=' ') # Cetak nilai node\n",
        "        preorder_traversal(root.left) # Telusuri anak kiri\n",
        "        preorder_traversal(root.right) # Telusuri anak kanan\n",
        "\n",
        "# Fungsi postorder traversal (kiri - kanan - root)\n",
        "def postorder_traversal(root):\n",
        "    if root:\n",
        "        postorder_traversal(root.left) # Telusuri anak kiri\n",
        "        postorder_traversal(root.right) # Telusuri anak kanan\n",
        "        print(root.data, end=' ') # Cetak nilai node\n",
        "\n",
        "# Menampilkan hasil traversal inorder\n",
        "print(\"Hasil dari inorder traversal:\")\n",
        "inorder_traversal(bst.root)\n",
        "\n",
        "# Menampilkan hasil traversal preorder\n",
        "print(\"\\nHasil dari preorder traversal:\")\n",
        "preorder_traversal(bst.root)\n",
        "\n",
        "# Menampilkan hasil traversal postorder\n",
        "print(\"\\nHasil dari postorder traversal:\")\n",
        "postorder_traversal(bst.root)\n",
        "\n",
        "print(\"\\n\")\n",
        "\n",
        "# Fitur 1: Mencari angka dua digit terakhir NPM (contoh: 19)\n",
        "target = 19\n",
        "found = bst.search(bst.root, target)\n",
        "print(f\"Apakah angka {target} ditemukan di tree? {'Ya' if found else 'Tidak'}\")\n",
        "\n",
        "# Fitur 2: Mencari angka yang tidak ada di tree (contoh: 500)\n",
        "angka = 500\n",
        "found2 = bst.search(bst.root, angka)\n",
        "print(f\"Apakah angka {angka} ditemukan di tree? {'Ya' if found2 else 'Tidak'}\")"
      ],
      "metadata": {
        "colab": {
          "base_uri": "https://localhost:8080/"
        },
        "id": "V5wf55Vw58Vb",
        "outputId": "310291cb-65da-4897-b533-b4715cc706a6"
      },
      "execution_count": null,
      "outputs": [
        {
          "output_type": "stream",
          "name": "stdout",
          "text": [
            "Hasil dari inorder traversal:\n",
            "1 6 7 17 65 83 619 \n",
            "Hasil dari preorder traversal:\n",
            "619 6 1 83 65 17 7 \n",
            "Hasil dari postorder traversal:\n",
            "1 7 17 65 83 6 619 \n",
            "\n",
            "Apakah angka 19 ditemukan di tree? Tidak\n",
            "Apakah angka 500 ditemukan di tree? Tidak\n"
          ]
        }
      ]
    },
    {
      "cell_type": "code",
      "source": [],
      "metadata": {
        "id": "dZbqr_XvBM3T"
      },
      "execution_count": null,
      "outputs": []
    }
  ]
}