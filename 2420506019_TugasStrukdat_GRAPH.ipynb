{
  "nbformat": 4,
  "nbformat_minor": 0,
  "metadata": {
    "colab": {
      "provenance": []
    },
    "kernelspec": {
      "name": "python3",
      "display_name": "Python 3"
    },
    "language_info": {
      "name": "python"
    }
  },
  "cells": [
    {
      "cell_type": "markdown",
      "source": [
        "### **Tugas / Latihan**"
      ],
      "metadata": {
        "id": "TOy7u274VPly"
      }
    },
    {
      "cell_type": "code",
      "execution_count": 1,
      "metadata": {
        "id": "N8qXJ4ND1jT-",
        "outputId": "477c45a9-aac9-4987-da00-3e38d71a2d48",
        "colab": {
          "base_uri": "https://localhost:8080/"
        }
      },
      "outputs": [
        {
          "output_type": "stream",
          "name": "stdout",
          "text": [
            "Graph:\n",
            "A --> ['B', 'C']\n",
            "B --> ['A', 'C', 'D']\n",
            "C --> ['A', 'B', 'E']\n",
            "D --> ['B', 'E']\n",
            "E --> ['C', 'D']\n",
            "\n",
            "BFS dari A: ['A', 'B', 'C', 'D', 'E']\n",
            "DFS dari A: ['A', 'B', 'C', 'E', 'D']\n",
            "Path dari A ke E: ['A', 'B', 'C', 'E']\n",
            "Apakah graf terkoneksi? True\n"
          ]
        }
      ],
      "source": [
        "from collections import deque\n",
        "\n",
        "# 1. Buat graf tak berarah baru dengan minimal 5 simpul dan 7 sisi\n",
        "graph = {\n",
        "  'A': ['B', 'C'],\n",
        "  'B': ['A', 'C', 'D'],\n",
        "  'C': ['A', 'B', 'E'],\n",
        "  'D': ['B', 'E'],\n",
        "  'E': ['C', 'D']\n",
        "}\n",
        "\n",
        "# Fungsi untuk menampilkan graf\n",
        "def print_graph(graph):\n",
        "  for node in graph:\n",
        "    print(f\"{node} --> {graph[node]}\")\n",
        "\n",
        "# 2. Implementasi BFS dan DFS dan 3. Modifikasi BFS agar mengembalikan list urutan kunjungan\n",
        "def bfs(graph, start):\n",
        "  visited = []\n",
        "  queue = deque([start])\n",
        "\n",
        "  while queue:\n",
        "    node = queue.popleft()\n",
        "    if node not in visited:\n",
        "      visited.append(node)\n",
        "      queue.extend(neighbor for neighbor in graph[node] if neighbor not in visited)\n",
        "  return visited\n",
        "\n",
        "def dfs(graph, start, visited=None):\n",
        "  if visited is None:\n",
        "    visited = []\n",
        "  if start not in visited:\n",
        "    visited.append(start)\n",
        "    for neighbor in graph[start]:\n",
        "      dfs(graph, neighbor, visited)\n",
        "  return visited\n",
        "\n",
        "# 4. Fungsi untuk mencari satu jalur dari start ke end dengan DFS\n",
        "def find_path(graph, start, end, path=[]):\n",
        "  path = path + [start]\n",
        "  if start == end:\n",
        "    return path\n",
        "  for node in graph[start]:\n",
        "    if node not in path:\n",
        "      newpath = find_path(graph, node, end, path)\n",
        "      if newpath:\n",
        "        return newpath\n",
        "  return None\n",
        "\n",
        "# 5. Cek apakah graf terkoneksi (semua simpul saling terhubung)\n",
        "def is_connected(graph):\n",
        "  start_node = next(iter(graph))  # Ambil sipul pertama\n",
        "  visited_nodes = dfs(graph, start_node)\n",
        "  return len(visited_nodes) == len(graph)\n",
        "\n",
        "# Tes fungsi-fungsinya\n",
        "print(\"Graph:\")\n",
        "print_graph(graph)\n",
        "\n",
        "print(\"\\nBFS dari A:\", bfs(graph, 'A'))\n",
        "print(\"DFS dari A:\", dfs(graph, 'A'))\n",
        "print(\"Path dari A ke E:\", find_path(graph, 'A', 'E'))\n",
        "print(\"Apakah graf terkoneksi?\", is_connected(graph))"
      ]
    },
    {
      "cell_type": "code",
      "source": [],
      "metadata": {
        "id": "oH3hbW4HrydN"
      },
      "execution_count": null,
      "outputs": []
    }
  ]
}